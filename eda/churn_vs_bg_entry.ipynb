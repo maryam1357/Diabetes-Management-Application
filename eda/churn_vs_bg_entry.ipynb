{
 "cells": [
  {
   "cell_type": "code",
   "execution_count": 1,
   "metadata": {
    "collapsed": false
   },
   "outputs": [
    {
     "name": "stderr",
     "output_type": "stream",
     "text": [
      "eda1.py:436: SettingWithCopyWarning: \n",
      "A value is trying to be set on a copy of a slice from a DataFrame.\n",
      "Try using .loc[row_indexer,col_indexer] = value instead\n",
      "\n",
      "See the caveats in the documentation: http://pandas.pydata.org/pandas-docs/stable/indexing.html#indexing-view-versus-copy\n",
      "  more_thn_five['1w_engagement']= more_thn_five['1w_open']/7\n"
     ]
    }
   ],
   "source": [
    "run eda1.py"
   ]
  },
  {
   "cell_type": "code",
   "execution_count": 232,
   "metadata": {
    "collapsed": false
   },
   "outputs": [
    {
     "name": "stdout",
     "output_type": "stream",
     "text": [
      "<class 'pandas.core.frame.DataFrame'>\n",
      "Int64Index: 31495 entries, 0 to 31494\n",
      "Data columns (total 71 columns):\n",
      "level_0                         31495 non-null int64\n",
      "index                           31495 non-null float64\n",
      "user_id                         31495 non-null float64\n",
      "appopen                         31495 non-null float64\n",
      "max_open/day                    31495 non-null float64\n",
      "use_age                         31495 non-null float64\n",
      "Churn                           31495 non-null float64\n",
      "1d_open                         31495 non-null float64\n",
      "2dacute                         17853 non-null float64\n",
      "2d_crit                         17853 non-null float64\n",
      "2d_bg_entry                     17853 non-null float64\n",
      "min_bg_2d                       17853 non-null float64\n",
      "max_bg_2d                       17853 non-null float64\n",
      "1d_carbent                      5920 non-null float64\n",
      "1d_wtent                        4548 non-null float64\n",
      "1w_open                         31495 non-null float64\n",
      "1w_crit                         18377 non-null float64\n",
      "1wacute                         18377 non-null float64\n",
      "1w_bg_entry                     18377 non-null float64\n",
      "min_bg_1w                       18377 non-null float64\n",
      "max_bg_1w                       18377 non-null float64\n",
      "1w_carbent                      6295 non-null float64\n",
      "1w_wtent                        4929 non-null float64\n",
      "session_interval                31495 non-null float64\n",
      "1month/week_open                5826 non-null float64\n",
      "count                           5826 non-null float64\n",
      "1m_crit                         4514 non-null float64\n",
      "1macute                         4514 non-null float64\n",
      "1m_bg_entry                     4514 non-null float64\n",
      "min_bg_1m                       4514 non-null float64\n",
      "max_bg_1m                       4514 non-null float64\n",
      "1month_engagement               5826 non-null float64\n",
      "tot_wt_ent                      8788 non-null float64\n",
      "max_wtent/day                   8788 non-null float64\n",
      "days_f0wt                       8788 non-null float64\n",
      "max_carbent/day                 4232 non-null float64\n",
      "days_f0crb                      4232 non-null float64\n",
      "tot_carbent                     4232 non-null float64\n",
      "min_bg                          11353 non-null float64\n",
      "max_bg                          11353 non-null float64\n",
      "avg_bg                          11353 non-null float64\n",
      "tot_critical                    11353 non-null float64\n",
      "tot_acute                       11353 non-null float64\n",
      "tot_bg_open                     11353 non-null float64\n",
      ">20_x                           8257 non-null float64\n",
      "<-20_x                          8257 non-null float64\n",
      "max_bg_open                     11353 non-null float64\n",
      "bg_user_age                     11353 non-null float64\n",
      ">20_y                           8257 non-null float64\n",
      "<-20_y                          8257 non-null float64\n",
      "BG_Schedule                     6128 non-null object\n",
      "dateOfFirstLaunch               28065 non-null datetime64[ns]\n",
      "Meal_Reminders_Set              3656 non-null object\n",
      "TrackingExerciseMinutes         16334 non-null object\n",
      "carbBudget                      20886 non-null float64\n",
      "diabetes.type_Gestational       31494 non-null float64\n",
      "diabetes.type_LADA              31494 non-null float64\n",
      "diabetes.type_Other             31494 non-null float64\n",
      "diabetes.type_Pre-diabetic      31494 non-null float64\n",
      "diabetes.type_Prediabetes       31494 non-null float64\n",
      "diabetes.type_Type I            31494 non-null float64\n",
      "diabetes.type_Type II           31494 non-null float64\n",
      "gender_Female                   31494 non-null float64\n",
      "gender_Male                     31494 non-null float64\n",
      "CarbEntryPreference_estimate    31494 non-null float64\n",
      "CarbEntryPreference_numeric     31494 non-null float64\n",
      "UserTreatmentType_Both          31494 non-null float64\n",
      "UserTreatmentType_Insulin       31494 non-null float64\n",
      "UserTreatmentType_Meds          31494 non-null float64\n",
      "engagement                      31495 non-null float64\n",
      "bg/appopen                      11353 non-null float64\n",
      "dtypes: datetime64[ns](1), float64(66), int64(1), object(3)\n",
      "memory usage: 17.3+ MB\n"
     ]
    }
   ],
   "source": [
    "group_all_tables.info()"
   ]
  },
  {
   "cell_type": "code",
   "execution_count": 233,
   "metadata": {
    "collapsed": false
   },
   "outputs": [
    {
     "data": {
      "text/html": [
       "<div>\n",
       "<table border=\"1\" class=\"dataframe\">\n",
       "  <thead>\n",
       "    <tr style=\"text-align: right;\">\n",
       "      <th></th>\n",
       "      <th>index</th>\n",
       "      <th>user_id</th>\n",
       "      <th>appopen</th>\n",
       "      <th>max_open/day</th>\n",
       "      <th>use_age</th>\n",
       "      <th>Churn</th>\n",
       "      <th>1d_open</th>\n",
       "      <th>2dacute</th>\n",
       "      <th>2d_crit</th>\n",
       "      <th>2d_bg_entry</th>\n",
       "      <th>...</th>\n",
       "      <th>1w_wtent</th>\n",
       "      <th>session_interval</th>\n",
       "      <th>1month/week_open</th>\n",
       "      <th>count</th>\n",
       "      <th>1m_crit</th>\n",
       "      <th>1macute</th>\n",
       "      <th>1m_bg_entry</th>\n",
       "      <th>min_bg_1m</th>\n",
       "      <th>max_bg_1m</th>\n",
       "      <th>1month_engagement</th>\n",
       "    </tr>\n",
       "  </thead>\n",
       "  <tbody>\n",
       "    <tr>\n",
       "      <th>0</th>\n",
       "      <td>0</td>\n",
       "      <td>1</td>\n",
       "      <td>204</td>\n",
       "      <td>25</td>\n",
       "      <td>77</td>\n",
       "      <td>1</td>\n",
       "      <td>17</td>\n",
       "      <td>4.0</td>\n",
       "      <td>2.0</td>\n",
       "      <td>4.0</td>\n",
       "      <td>...</td>\n",
       "      <td>5.0</td>\n",
       "      <td>2.264706</td>\n",
       "      <td>4.0</td>\n",
       "      <td>3.0</td>\n",
       "      <td>0.0</td>\n",
       "      <td>1.0</td>\n",
       "      <td>2.0</td>\n",
       "      <td>136.0</td>\n",
       "      <td>325.0</td>\n",
       "      <td>0.571429</td>\n",
       "    </tr>\n",
       "    <tr>\n",
       "      <th>1</th>\n",
       "      <td>1</td>\n",
       "      <td>2</td>\n",
       "      <td>163</td>\n",
       "      <td>39</td>\n",
       "      <td>101</td>\n",
       "      <td>1</td>\n",
       "      <td>57</td>\n",
       "      <td>0.0</td>\n",
       "      <td>0.0</td>\n",
       "      <td>7.0</td>\n",
       "      <td>...</td>\n",
       "      <td>3.0</td>\n",
       "      <td>1.980392</td>\n",
       "      <td>8.0</td>\n",
       "      <td>4.0</td>\n",
       "      <td>0.0</td>\n",
       "      <td>0.0</td>\n",
       "      <td>5.0</td>\n",
       "      <td>126.0</td>\n",
       "      <td>180.0</td>\n",
       "      <td>1.142857</td>\n",
       "    </tr>\n",
       "    <tr>\n",
       "      <th>2</th>\n",
       "      <td>2</td>\n",
       "      <td>4</td>\n",
       "      <td>2</td>\n",
       "      <td>1</td>\n",
       "      <td>5</td>\n",
       "      <td>1</td>\n",
       "      <td>1</td>\n",
       "      <td>0.0</td>\n",
       "      <td>0.0</td>\n",
       "      <td>1.0</td>\n",
       "      <td>...</td>\n",
       "      <td>NaN</td>\n",
       "      <td>2.500000</td>\n",
       "      <td>NaN</td>\n",
       "      <td>NaN</td>\n",
       "      <td>NaN</td>\n",
       "      <td>NaN</td>\n",
       "      <td>NaN</td>\n",
       "      <td>NaN</td>\n",
       "      <td>NaN</td>\n",
       "      <td>NaN</td>\n",
       "    </tr>\n",
       "    <tr>\n",
       "      <th>3</th>\n",
       "      <td>3</td>\n",
       "      <td>8</td>\n",
       "      <td>3</td>\n",
       "      <td>2</td>\n",
       "      <td>4</td>\n",
       "      <td>1</td>\n",
       "      <td>2</td>\n",
       "      <td>NaN</td>\n",
       "      <td>NaN</td>\n",
       "      <td>NaN</td>\n",
       "      <td>...</td>\n",
       "      <td>NaN</td>\n",
       "      <td>2.000000</td>\n",
       "      <td>NaN</td>\n",
       "      <td>NaN</td>\n",
       "      <td>NaN</td>\n",
       "      <td>NaN</td>\n",
       "      <td>NaN</td>\n",
       "      <td>NaN</td>\n",
       "      <td>NaN</td>\n",
       "      <td>NaN</td>\n",
       "    </tr>\n",
       "    <tr>\n",
       "      <th>4</th>\n",
       "      <td>4</td>\n",
       "      <td>9</td>\n",
       "      <td>100</td>\n",
       "      <td>6</td>\n",
       "      <td>183</td>\n",
       "      <td>0</td>\n",
       "      <td>3</td>\n",
       "      <td>NaN</td>\n",
       "      <td>NaN</td>\n",
       "      <td>NaN</td>\n",
       "      <td>...</td>\n",
       "      <td>NaN</td>\n",
       "      <td>2.691176</td>\n",
       "      <td>3.0</td>\n",
       "      <td>3.0</td>\n",
       "      <td>NaN</td>\n",
       "      <td>NaN</td>\n",
       "      <td>NaN</td>\n",
       "      <td>NaN</td>\n",
       "      <td>NaN</td>\n",
       "      <td>0.428571</td>\n",
       "    </tr>\n",
       "  </tbody>\n",
       "</table>\n",
       "<p>5 rows × 31 columns</p>\n",
       "</div>"
      ],
      "text/plain": [
       "   index  user_id  appopen  max_open/day  use_age  Churn  1d_open  2dacute  \\\n",
       "0      0        1      204            25       77      1       17      4.0   \n",
       "1      1        2      163            39      101      1       57      0.0   \n",
       "2      2        4        2             1        5      1        1      0.0   \n",
       "3      3        8        3             2        4      1        2      NaN   \n",
       "4      4        9      100             6      183      0        3      NaN   \n",
       "\n",
       "   2d_crit  2d_bg_entry        ...          1w_wtent  session_interval  \\\n",
       "0      2.0          4.0        ...               5.0          2.264706   \n",
       "1      0.0          7.0        ...               3.0          1.980392   \n",
       "2      0.0          1.0        ...               NaN          2.500000   \n",
       "3      NaN          NaN        ...               NaN          2.000000   \n",
       "4      NaN          NaN        ...               NaN          2.691176   \n",
       "\n",
       "   1month/week_open  count  1m_crit  1macute  1m_bg_entry  min_bg_1m  \\\n",
       "0               4.0    3.0      0.0      1.0          2.0      136.0   \n",
       "1               8.0    4.0      0.0      0.0          5.0      126.0   \n",
       "2               NaN    NaN      NaN      NaN          NaN        NaN   \n",
       "3               NaN    NaN      NaN      NaN          NaN        NaN   \n",
       "4               3.0    3.0      NaN      NaN          NaN        NaN   \n",
       "\n",
       "   max_bg_1m  1month_engagement  \n",
       "0      325.0           0.571429  \n",
       "1      180.0           1.142857  \n",
       "2        NaN                NaN  \n",
       "3        NaN                NaN  \n",
       "4        NaN           0.428571  \n",
       "\n",
       "[5 rows x 31 columns]"
      ]
     },
     "execution_count": 233,
     "metadata": {},
     "output_type": "execute_result"
    }
   ],
   "source": [
    "grouped_add_1week.head()"
   ]
  },
  {
   "cell_type": "code",
   "execution_count": 196,
   "metadata": {
    "collapsed": false
   },
   "outputs": [
    {
     "data": {
      "text/plain": [
       "(31495, 71)"
      ]
     },
     "execution_count": 196,
     "metadata": {},
     "output_type": "execute_result"
    }
   ],
   "source": [
    "group_all_tables.shape"
   ]
  },
  {
   "cell_type": "code",
   "execution_count": 214,
   "metadata": {
    "collapsed": false
   },
   "outputs": [],
   "source": [
    "after_min_time = user_profiles[user_profiles.dateOfFirstLaunch>= open_by_user.Date.min()].reset_index()"
   ]
  },
  {
   "cell_type": "code",
   "execution_count": null,
   "metadata": {
    "collapsed": true
   },
   "outputs": [],
   "source": []
  },
  {
   "cell_type": "code",
   "execution_count": null,
   "metadata": {
    "collapsed": true
   },
   "outputs": [],
   "source": []
  },
  {
   "cell_type": "code",
   "execution_count": 215,
   "metadata": {
    "collapsed": true
   },
   "outputs": [],
   "source": []
  },
  {
   "cell_type": "code",
   "execution_count": 216,
   "metadata": {
    "collapsed": false
   },
   "outputs": [
    {
     "data": {
      "text/plain": [
       "(32923,)"
      ]
     },
     "execution_count": 216,
     "metadata": {},
     "output_type": "execute_result"
    }
   ],
   "source": [
    "user_ids.shape"
   ]
  },
  {
   "cell_type": "code",
   "execution_count": 209,
   "metadata": {
    "collapsed": false
   },
   "outputs": [],
   "source": [
    "user_profiles= user_profiles.reset_index()"
   ]
  },
  {
   "cell_type": "code",
   "execution_count": 217,
   "metadata": {
    "collapsed": false
   },
   "outputs": [],
   "source": [
    "usr_prf = user_profiles['user_id'].unique() "
   ]
  },
  {
   "cell_type": "code",
   "execution_count": 221,
   "metadata": {
    "collapsed": false
   },
   "outputs": [
    {
     "data": {
      "text/plain": [
       "(54179,)"
      ]
     },
     "execution_count": 221,
     "metadata": {},
     "output_type": "execute_result"
    }
   ],
   "source": [
    "usr_prf.shape"
   ]
  },
  {
   "cell_type": "code",
   "execution_count": 218,
   "metadata": {
    "collapsed": true
   },
   "outputs": [],
   "source": [
    "users_to_del = [user for user in usr_prf if user not in user_ids]"
   ]
  },
  {
   "cell_type": "code",
   "execution_count": 220,
   "metadata": {
    "collapsed": false
   },
   "outputs": [
    {
     "data": {
      "text/plain": [
       "21256"
      ]
     },
     "execution_count": 220,
     "metadata": {},
     "output_type": "execute_result"
    }
   ],
   "source": [
    "len(users_to_del)"
   ]
  },
  {
   "cell_type": "code",
   "execution_count": 222,
   "metadata": {
    "collapsed": false
   },
   "outputs": [
    {
     "data": {
      "text/plain": [
       "(31495,)"
      ]
     },
     "execution_count": 222,
     "metadata": {},
     "output_type": "execute_result"
    }
   ],
   "source": [
    "open_by_user.user_id.unique().shape"
   ]
  },
  {
   "cell_type": "code",
   "execution_count": 228,
   "metadata": {
    "collapsed": true
   },
   "outputs": [],
   "source": [
    "def tables_without_oldusers(df, user_profiles):\n",
    "    after_min_time = user_profiles[user_profiles.dateOfFirstLaunch>= open_by_user.Date.min()].reset_index()\n",
    "    user_ids = after_min_time.user_id.unique()\n",
    "    user_profiles= user_profiles.reset_index()\n",
    "    usr_prf = user_profiles['user_id'].unique() \n",
    "    users_to_del = [user for user in usr_prf if user not in user_ids]\n",
    "    df.drop(users_to_del, inplace=True)\n",
    "    return df\n",
    "    "
   ]
  },
  {
   "cell_type": "code",
   "execution_count": 229,
   "metadata": {
    "collapsed": false
   },
   "outputs": [
    {
     "data": {
      "text/plain": [
       "(405568, 9)"
      ]
     },
     "execution_count": 229,
     "metadata": {},
     "output_type": "execute_result"
    }
   ],
   "source": [
    "open_by_user.shape"
   ]
  },
  {
   "cell_type": "code",
   "execution_count": null,
   "metadata": {
    "collapsed": true
   },
   "outputs": [],
   "source": [
    "grouped_all"
   ]
  },
  {
   "cell_type": "code",
   "execution_count": 230,
   "metadata": {
    "collapsed": false
   },
   "outputs": [],
   "source": [
    "open_by_2=tables_without_oldusers(open_by_user, user_profiles)"
   ]
  },
  {
   "cell_type": "code",
   "execution_count": 231,
   "metadata": {
    "collapsed": false
   },
   "outputs": [
    {
     "data": {
      "text/plain": [
       "(384312, 9)"
      ]
     },
     "execution_count": 231,
     "metadata": {},
     "output_type": "execute_result"
    }
   ],
   "source": [
    "open_by_2.shape"
   ]
  },
  {
   "cell_type": "code",
   "execution_count": 7,
   "metadata": {
    "collapsed": true
   },
   "outputs": [],
   "source": [
    "open_by_user.to_csv('open_by_user.csv')"
   ]
  },
  {
   "cell_type": "code",
   "execution_count": 8,
   "metadata": {
    "collapsed": true
   },
   "outputs": [],
   "source": [
    "group_all_tables.to_csv('group_all_tables.csv')"
   ]
  },
  {
   "cell_type": "code",
   "execution_count": 18,
   "metadata": {
    "collapsed": true
   },
   "outputs": [],
   "source": [
    "open_by_user1 = pd.read_csv('open_by_user.csv')"
   ]
  },
  {
   "cell_type": "code",
   "execution_count": 19,
   "metadata": {
    "collapsed": false
   },
   "outputs": [
    {
     "data": {
      "text/plain": [
       "(405568, 10)"
      ]
     },
     "execution_count": 19,
     "metadata": {},
     "output_type": "execute_result"
    }
   ],
   "source": [
    "open_by_user1.shape"
   ]
  },
  {
   "cell_type": "code",
   "execution_count": 9,
   "metadata": {
    "collapsed": true
   },
   "outputs": [],
   "source": [
    "bg_values.to_csv('bg_values.csv')"
   ]
  },
  {
   "cell_type": "code",
   "execution_count": 10,
   "metadata": {
    "collapsed": true
   },
   "outputs": [],
   "source": [
    "bg_to_join_final.to_csv('bg_grouped.csv')"
   ]
  },
  {
   "cell_type": "code",
   "execution_count": 12,
   "metadata": {
    "collapsed": false
   },
   "outputs": [
    {
     "data": {
      "text/plain": [
       "Timestamp('2015-09-23 14:01:53')"
      ]
     },
     "execution_count": 12,
     "metadata": {},
     "output_type": "execute_result"
    }
   ],
   "source": [
    "user_profiles['dateOfFirstLaunch'].min()"
   ]
  },
  {
   "cell_type": "code",
   "execution_count": 16,
   "metadata": {
    "collapsed": true
   },
   "outputs": [],
   "source": [
    "open_by_user = open_by_user[open_by_user.min_date>= user_profiles.dateOfFirstLaunch.min()]"
   ]
  },
  {
   "cell_type": "code",
   "execution_count": 17,
   "metadata": {
    "collapsed": false
   },
   "outputs": [
    {
     "data": {
      "text/plain": [
       "(405568, 9)"
      ]
     },
     "execution_count": 17,
     "metadata": {},
     "output_type": "execute_result"
    }
   ],
   "source": [
    "open_by_user.shape"
   ]
  },
  {
   "cell_type": "code",
   "execution_count": 20,
   "metadata": {
    "collapsed": true
   },
   "outputs": [],
   "source": [
    "import statsmodels.regression.linear_model as sm"
   ]
  },
  {
   "cell_type": "code",
   "execution_count": 26,
   "metadata": {
    "collapsed": true
   },
   "outputs": [],
   "source": [
    "from sklearn.cross_validation import train_test_split\n"
   ]
  },
  {
   "cell_type": "code",
   "execution_count": 21,
   "metadata": {
    "collapsed": true
   },
   "outputs": [],
   "source": [
    "from sklearn.linear_model import LogisticRegression"
   ]
  },
  {
   "cell_type": "code",
   "execution_count": 33,
   "metadata": {
    "collapsed": true
   },
   "outputs": [],
   "source": [
    "df = group_all_tables[['tot_bg_open', 'Churn']]"
   ]
  }
 ],
 "metadata": {
  "anaconda-cloud": {},
  "kernelspec": {
   "display_name": "Python [conda root]",
   "language": "python",
   "name": "conda-root-py"
  },
  "language_info": {
   "codemirror_mode": {
    "name": "ipython",
    "version": 2
   },
   "file_extension": ".py",
   "mimetype": "text/x-python",
   "name": "python",
   "nbconvert_exporter": "python",
   "pygments_lexer": "ipython2",
   "version": "2.7.12"
  }
 },
 "nbformat": 4,
 "nbformat_minor": 1
}
