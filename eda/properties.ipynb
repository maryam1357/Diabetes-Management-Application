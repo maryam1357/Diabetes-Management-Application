{
 "cells": [
  {
   "cell_type": "code",
   "execution_count": 1,
   "metadata": {
    "collapsed": true
   },
   "outputs": [],
   "source": [
    "run eda_sugar.py"
   ]
  },
  {
   "cell_type": "code",
   "execution_count": 2,
   "metadata": {
    "collapsed": false
   },
   "outputs": [
    {
     "data": {
      "text/html": [
       "<div>\n",
       "<table border=\"1\" class=\"dataframe\">\n",
       "  <thead>\n",
       "    <tr style=\"text-align: right;\">\n",
       "      <th></th>\n",
       "      <th>user_id</th>\n",
       "      <th>total_app_opened</th>\n",
       "      <th>sign_up_date</th>\n",
       "      <th>min_app_open_day</th>\n",
       "      <th>last_day</th>\n",
       "      <th>max_app_open_day</th>\n",
       "      <th>1wfrom_start</th>\n",
       "      <th>open_1w</th>\n",
       "      <th>open_after_1w</th>\n",
       "      <th>user_app_age</th>\n",
       "      <th>accute</th>\n",
       "      <th>critical</th>\n",
       "      <th>weight_input</th>\n",
       "    </tr>\n",
       "  </thead>\n",
       "  <tbody>\n",
       "    <tr>\n",
       "      <th>0</th>\n",
       "      <td>2</td>\n",
       "      <td>22</td>\n",
       "      <td>2016-05-01</td>\n",
       "      <td>1</td>\n",
       "      <td>2016-06-30</td>\n",
       "      <td>3</td>\n",
       "      <td>2016-05-08</td>\n",
       "      <td>3</td>\n",
       "      <td>19.0</td>\n",
       "      <td>60 days</td>\n",
       "      <td>1.0</td>\n",
       "      <td>0.0</td>\n",
       "      <td>NaN</td>\n",
       "    </tr>\n",
       "    <tr>\n",
       "      <th>1</th>\n",
       "      <td>3</td>\n",
       "      <td>14</td>\n",
       "      <td>2016-07-20</td>\n",
       "      <td>1</td>\n",
       "      <td>2016-07-23</td>\n",
       "      <td>6</td>\n",
       "      <td>2016-07-27</td>\n",
       "      <td>14</td>\n",
       "      <td>NaN</td>\n",
       "      <td>3 days</td>\n",
       "      <td>0.0</td>\n",
       "      <td>0.0</td>\n",
       "      <td>NaN</td>\n",
       "    </tr>\n",
       "    <tr>\n",
       "      <th>2</th>\n",
       "      <td>5</td>\n",
       "      <td>4</td>\n",
       "      <td>2016-05-22</td>\n",
       "      <td>1</td>\n",
       "      <td>2016-07-17</td>\n",
       "      <td>2</td>\n",
       "      <td>2016-05-29</td>\n",
       "      <td>2</td>\n",
       "      <td>2.0</td>\n",
       "      <td>56 days</td>\n",
       "      <td>NaN</td>\n",
       "      <td>NaN</td>\n",
       "      <td>1.0</td>\n",
       "    </tr>\n",
       "    <tr>\n",
       "      <th>3</th>\n",
       "      <td>6</td>\n",
       "      <td>5</td>\n",
       "      <td>2016-05-16</td>\n",
       "      <td>1</td>\n",
       "      <td>2016-06-09</td>\n",
       "      <td>2</td>\n",
       "      <td>2016-05-23</td>\n",
       "      <td>2</td>\n",
       "      <td>3.0</td>\n",
       "      <td>24 days</td>\n",
       "      <td>0.0</td>\n",
       "      <td>1.0</td>\n",
       "      <td>NaN</td>\n",
       "    </tr>\n",
       "    <tr>\n",
       "      <th>4</th>\n",
       "      <td>8</td>\n",
       "      <td>16</td>\n",
       "      <td>2016-05-02</td>\n",
       "      <td>1</td>\n",
       "      <td>2016-08-30</td>\n",
       "      <td>2</td>\n",
       "      <td>2016-05-09</td>\n",
       "      <td>3</td>\n",
       "      <td>13.0</td>\n",
       "      <td>120 days</td>\n",
       "      <td>0.0</td>\n",
       "      <td>0.0</td>\n",
       "      <td>NaN</td>\n",
       "    </tr>\n",
       "  </tbody>\n",
       "</table>\n",
       "</div>"
      ],
      "text/plain": [
       "   user_id  total_app_opened sign_up_date  min_app_open_day   last_day  \\\n",
       "0        2                22   2016-05-01                 1 2016-06-30   \n",
       "1        3                14   2016-07-20                 1 2016-07-23   \n",
       "2        5                 4   2016-05-22                 1 2016-07-17   \n",
       "3        6                 5   2016-05-16                 1 2016-06-09   \n",
       "4        8                16   2016-05-02                 1 2016-08-30   \n",
       "\n",
       "   max_app_open_day 1wfrom_start  open_1w  open_after_1w  user_app_age  \\\n",
       "0                 3   2016-05-08        3           19.0       60 days   \n",
       "1                 6   2016-07-27       14            NaN        3 days   \n",
       "2                 2   2016-05-29        2            2.0       56 days   \n",
       "3                 2   2016-05-23        2            3.0       24 days   \n",
       "4                 2   2016-05-09        3           13.0      120 days   \n",
       "\n",
       "   accute  critical  weight_input  \n",
       "0     1.0       0.0           NaN  \n",
       "1     0.0       0.0           NaN  \n",
       "2     NaN       NaN           1.0  \n",
       "3     0.0       1.0           NaN  \n",
       "4     0.0       0.0           NaN  "
      ]
     },
     "execution_count": 2,
     "metadata": {},
     "output_type": "execute_result"
    }
   ],
   "source": [
    "grouped_by_user.head()"
   ]
  },
  {
   "cell_type": "code",
   "execution_count": 3,
   "metadata": {
    "collapsed": false
   },
   "outputs": [
    {
     "data": {
      "text/html": [
       "<div>\n",
       "<table border=\"1\" class=\"dataframe\">\n",
       "  <thead>\n",
       "    <tr style=\"text-align: right;\">\n",
       "      <th></th>\n",
       "      <th>Date</th>\n",
       "      <th>value</th>\n",
       "      <th>user_id</th>\n",
       "    </tr>\n",
       "  </thead>\n",
       "  <tbody>\n",
       "    <tr>\n",
       "      <th>0</th>\n",
       "      <td>2016-05-15</td>\n",
       "      <td>1</td>\n",
       "      <td>11782.0</td>\n",
       "    </tr>\n",
       "    <tr>\n",
       "      <th>1</th>\n",
       "      <td>2016-05-23</td>\n",
       "      <td>2</td>\n",
       "      <td>11782.0</td>\n",
       "    </tr>\n",
       "    <tr>\n",
       "      <th>2</th>\n",
       "      <td>2016-06-10</td>\n",
       "      <td>1</td>\n",
       "      <td>11782.0</td>\n",
       "    </tr>\n",
       "    <tr>\n",
       "      <th>3</th>\n",
       "      <td>2016-06-13</td>\n",
       "      <td>3</td>\n",
       "      <td>11782.0</td>\n",
       "    </tr>\n",
       "    <tr>\n",
       "      <th>4</th>\n",
       "      <td>2016-06-26</td>\n",
       "      <td>1</td>\n",
       "      <td>11782.0</td>\n",
       "    </tr>\n",
       "  </tbody>\n",
       "</table>\n",
       "</div>"
      ],
      "text/plain": [
       "         Date  value  user_id\n",
       "0  2016-05-15      1  11782.0\n",
       "1  2016-05-23      2  11782.0\n",
       "2  2016-06-10      1  11782.0\n",
       "3  2016-06-13      3  11782.0\n",
       "4  2016-06-26      1  11782.0"
      ]
     },
     "execution_count": 3,
     "metadata": {},
     "output_type": "execute_result"
    }
   ],
   "source": [
    "carb_ent.head()"
   ]
  },
  {
   "cell_type": "code",
   "execution_count": 5,
   "metadata": {
    "collapsed": false
   },
   "outputs": [],
   "source": [
    "carb_grouped = carb_ent.groupby('user_id').sum().reset_index()"
   ]
  },
  {
   "cell_type": "code",
   "execution_count": 6,
   "metadata": {
    "collapsed": false
   },
   "outputs": [
    {
     "data": {
      "text/html": [
       "<div>\n",
       "<table border=\"1\" class=\"dataframe\">\n",
       "  <thead>\n",
       "    <tr style=\"text-align: right;\">\n",
       "      <th></th>\n",
       "      <th>user_id</th>\n",
       "      <th>value</th>\n",
       "    </tr>\n",
       "  </thead>\n",
       "  <tbody>\n",
       "    <tr>\n",
       "      <th>0</th>\n",
       "      <td>3.0</td>\n",
       "      <td>1</td>\n",
       "    </tr>\n",
       "    <tr>\n",
       "      <th>1</th>\n",
       "      <td>5.0</td>\n",
       "      <td>1</td>\n",
       "    </tr>\n",
       "    <tr>\n",
       "      <th>2</th>\n",
       "      <td>14.0</td>\n",
       "      <td>1</td>\n",
       "    </tr>\n",
       "    <tr>\n",
       "      <th>3</th>\n",
       "      <td>35.0</td>\n",
       "      <td>2</td>\n",
       "    </tr>\n",
       "    <tr>\n",
       "      <th>4</th>\n",
       "      <td>38.0</td>\n",
       "      <td>26</td>\n",
       "    </tr>\n",
       "  </tbody>\n",
       "</table>\n",
       "</div>"
      ],
      "text/plain": [
       "   user_id  value\n",
       "0      3.0      1\n",
       "1      5.0      1\n",
       "2     14.0      1\n",
       "3     35.0      2\n",
       "4     38.0     26"
      ]
     },
     "execution_count": 6,
     "metadata": {},
     "output_type": "execute_result"
    }
   ],
   "source": [
    "carb_grouped.head()"
   ]
  },
  {
   "cell_type": "code",
   "execution_count": 8,
   "metadata": {
    "collapsed": false
   },
   "outputs": [],
   "source": [
    "carb_ent = carb_ent.fillna(55555)\n",
    "carb_ent['user_id']= carb_ent['user_id'].astype(int)"
   ]
  },
  {
   "cell_type": "code",
   "execution_count": 9,
   "metadata": {
    "collapsed": true
   },
   "outputs": [],
   "source": [
    "carb_grouped = carb_ent.groupby('user_id').sum().reset_index()"
   ]
  },
  {
   "cell_type": "code",
   "execution_count": 10,
   "metadata": {
    "collapsed": true
   },
   "outputs": [],
   "source": [
    "carb_grouped.columns = ['user_id', 'carb_ent']\n"
   ]
  },
  {
   "cell_type": "code",
   "execution_count": 11,
   "metadata": {
    "collapsed": true
   },
   "outputs": [],
   "source": [
    "    grouped_by_user =grouped_by_user.merge(carb_grouped,how='left', left_on='user_id', right_on='user_id')\n"
   ]
  },
  {
   "cell_type": "code",
   "execution_count": 12,
   "metadata": {
    "collapsed": false
   },
   "outputs": [
    {
     "data": {
      "text/html": [
       "<div>\n",
       "<table border=\"1\" class=\"dataframe\">\n",
       "  <thead>\n",
       "    <tr style=\"text-align: right;\">\n",
       "      <th></th>\n",
       "      <th>user_id</th>\n",
       "      <th>total_app_opened</th>\n",
       "      <th>sign_up_date</th>\n",
       "      <th>min_app_open_day</th>\n",
       "      <th>last_day</th>\n",
       "      <th>max_app_open_day</th>\n",
       "      <th>1wfrom_start</th>\n",
       "      <th>open_1w</th>\n",
       "      <th>open_after_1w</th>\n",
       "      <th>user_app_age</th>\n",
       "      <th>accute</th>\n",
       "      <th>critical</th>\n",
       "      <th>weight_input</th>\n",
       "      <th>carb_ent</th>\n",
       "    </tr>\n",
       "  </thead>\n",
       "  <tbody>\n",
       "    <tr>\n",
       "      <th>0</th>\n",
       "      <td>2</td>\n",
       "      <td>22</td>\n",
       "      <td>2016-05-01</td>\n",
       "      <td>1</td>\n",
       "      <td>2016-06-30</td>\n",
       "      <td>3</td>\n",
       "      <td>2016-05-08</td>\n",
       "      <td>3</td>\n",
       "      <td>19.0</td>\n",
       "      <td>60 days</td>\n",
       "      <td>1.0</td>\n",
       "      <td>0.0</td>\n",
       "      <td>NaN</td>\n",
       "      <td>NaN</td>\n",
       "    </tr>\n",
       "    <tr>\n",
       "      <th>1</th>\n",
       "      <td>3</td>\n",
       "      <td>14</td>\n",
       "      <td>2016-07-20</td>\n",
       "      <td>1</td>\n",
       "      <td>2016-07-23</td>\n",
       "      <td>6</td>\n",
       "      <td>2016-07-27</td>\n",
       "      <td>14</td>\n",
       "      <td>NaN</td>\n",
       "      <td>3 days</td>\n",
       "      <td>0.0</td>\n",
       "      <td>0.0</td>\n",
       "      <td>NaN</td>\n",
       "      <td>1.0</td>\n",
       "    </tr>\n",
       "    <tr>\n",
       "      <th>2</th>\n",
       "      <td>5</td>\n",
       "      <td>4</td>\n",
       "      <td>2016-05-22</td>\n",
       "      <td>1</td>\n",
       "      <td>2016-07-17</td>\n",
       "      <td>2</td>\n",
       "      <td>2016-05-29</td>\n",
       "      <td>2</td>\n",
       "      <td>2.0</td>\n",
       "      <td>56 days</td>\n",
       "      <td>NaN</td>\n",
       "      <td>NaN</td>\n",
       "      <td>1.0</td>\n",
       "      <td>1.0</td>\n",
       "    </tr>\n",
       "    <tr>\n",
       "      <th>3</th>\n",
       "      <td>6</td>\n",
       "      <td>5</td>\n",
       "      <td>2016-05-16</td>\n",
       "      <td>1</td>\n",
       "      <td>2016-06-09</td>\n",
       "      <td>2</td>\n",
       "      <td>2016-05-23</td>\n",
       "      <td>2</td>\n",
       "      <td>3.0</td>\n",
       "      <td>24 days</td>\n",
       "      <td>0.0</td>\n",
       "      <td>1.0</td>\n",
       "      <td>NaN</td>\n",
       "      <td>NaN</td>\n",
       "    </tr>\n",
       "    <tr>\n",
       "      <th>4</th>\n",
       "      <td>8</td>\n",
       "      <td>16</td>\n",
       "      <td>2016-05-02</td>\n",
       "      <td>1</td>\n",
       "      <td>2016-08-30</td>\n",
       "      <td>2</td>\n",
       "      <td>2016-05-09</td>\n",
       "      <td>3</td>\n",
       "      <td>13.0</td>\n",
       "      <td>120 days</td>\n",
       "      <td>0.0</td>\n",
       "      <td>0.0</td>\n",
       "      <td>NaN</td>\n",
       "      <td>NaN</td>\n",
       "    </tr>\n",
       "  </tbody>\n",
       "</table>\n",
       "</div>"
      ],
      "text/plain": [
       "   user_id  total_app_opened sign_up_date  min_app_open_day   last_day  \\\n",
       "0        2                22   2016-05-01                 1 2016-06-30   \n",
       "1        3                14   2016-07-20                 1 2016-07-23   \n",
       "2        5                 4   2016-05-22                 1 2016-07-17   \n",
       "3        6                 5   2016-05-16                 1 2016-06-09   \n",
       "4        8                16   2016-05-02                 1 2016-08-30   \n",
       "\n",
       "   max_app_open_day 1wfrom_start  open_1w  open_after_1w  user_app_age  \\\n",
       "0                 3   2016-05-08        3           19.0       60 days   \n",
       "1                 6   2016-07-27       14            NaN        3 days   \n",
       "2                 2   2016-05-29        2            2.0       56 days   \n",
       "3                 2   2016-05-23        2            3.0       24 days   \n",
       "4                 2   2016-05-09        3           13.0      120 days   \n",
       "\n",
       "   accute  critical  weight_input  carb_ent  \n",
       "0     1.0       0.0           NaN       NaN  \n",
       "1     0.0       0.0           NaN       1.0  \n",
       "2     NaN       NaN           1.0       1.0  \n",
       "3     0.0       1.0           NaN       NaN  \n",
       "4     0.0       0.0           NaN       NaN  "
      ]
     },
     "execution_count": 12,
     "metadata": {},
     "output_type": "execute_result"
    }
   ],
   "source": [
    "grouped_by_user.head()"
   ]
  },
  {
   "cell_type": "code",
   "execution_count": 13,
   "metadata": {
    "collapsed": false
   },
   "outputs": [
    {
     "data": {
      "text/html": [
       "<div>\n",
       "<table border=\"1\" class=\"dataframe\">\n",
       "  <thead>\n",
       "    <tr style=\"text-align: right;\">\n",
       "      <th></th>\n",
       "      <th>Date</th>\n",
       "      <th>value</th>\n",
       "      <th>user_id</th>\n",
       "    </tr>\n",
       "  </thead>\n",
       "  <tbody>\n",
       "    <tr>\n",
       "      <th>0</th>\n",
       "      <td>2016-05-15</td>\n",
       "      <td>1</td>\n",
       "      <td>11782</td>\n",
       "    </tr>\n",
       "    <tr>\n",
       "      <th>1</th>\n",
       "      <td>2016-05-23</td>\n",
       "      <td>2</td>\n",
       "      <td>11782</td>\n",
       "    </tr>\n",
       "    <tr>\n",
       "      <th>2</th>\n",
       "      <td>2016-06-10</td>\n",
       "      <td>1</td>\n",
       "      <td>11782</td>\n",
       "    </tr>\n",
       "    <tr>\n",
       "      <th>3</th>\n",
       "      <td>2016-06-13</td>\n",
       "      <td>3</td>\n",
       "      <td>11782</td>\n",
       "    </tr>\n",
       "    <tr>\n",
       "      <th>4</th>\n",
       "      <td>2016-06-26</td>\n",
       "      <td>1</td>\n",
       "      <td>11782</td>\n",
       "    </tr>\n",
       "  </tbody>\n",
       "</table>\n",
       "</div>"
      ],
      "text/plain": [
       "         Date  value  user_id\n",
       "0  2016-05-15      1    11782\n",
       "1  2016-05-23      2    11782\n",
       "2  2016-06-10      1    11782\n",
       "3  2016-06-13      3    11782\n",
       "4  2016-06-26      1    11782"
      ]
     },
     "execution_count": 13,
     "metadata": {},
     "output_type": "execute_result"
    }
   ],
   "source": [
    "carb_ent.head()"
   ]
  },
  {
   "cell_type": "code",
   "execution_count": 14,
   "metadata": {
    "collapsed": false
   },
   "outputs": [
    {
     "data": {
      "text/html": [
       "<div>\n",
       "<table border=\"1\" class=\"dataframe\">\n",
       "  <thead>\n",
       "    <tr style=\"text-align: right;\">\n",
       "      <th></th>\n",
       "      <th>user_id</th>\n",
       "      <th>properties.BG_Schedule</th>\n",
       "      <th>properties.dateOfFirstLaunch</th>\n",
       "      <th>properties.user.diabetes.type</th>\n",
       "      <th>properties.Meal_Reminders_Set</th>\n",
       "      <th>properties.TrackingExerciseMinutes</th>\n",
       "      <th>properties.Total_BG_Reminders</th>\n",
       "      <th>properties.numAppOpenLifeTime</th>\n",
       "      <th>properties.UserTreatmentType</th>\n",
       "      <th>properties.carbBudget</th>\n",
       "      <th>...</th>\n",
       "      <th>properties.CarbEntryPreference</th>\n",
       "      <th>Gestational</th>\n",
       "      <th>LADA</th>\n",
       "      <th>Lada</th>\n",
       "      <th>None</th>\n",
       "      <th>Other</th>\n",
       "      <th>Pre-diabetic</th>\n",
       "      <th>Prediabetes</th>\n",
       "      <th>Type I</th>\n",
       "      <th>Type II</th>\n",
       "    </tr>\n",
       "  </thead>\n",
       "  <tbody>\n",
       "    <tr>\n",
       "      <th>0</th>\n",
       "      <td>1</td>\n",
       "      <td>NaN</td>\n",
       "      <td>NaT</td>\n",
       "      <td>NaN</td>\n",
       "      <td>NaN</td>\n",
       "      <td>NaN</td>\n",
       "      <td>NaN</td>\n",
       "      <td>NaN</td>\n",
       "      <td>NaN</td>\n",
       "      <td>NaN</td>\n",
       "      <td>...</td>\n",
       "      <td>NaN</td>\n",
       "      <td>0.0</td>\n",
       "      <td>0.0</td>\n",
       "      <td>0.0</td>\n",
       "      <td>0.0</td>\n",
       "      <td>0.0</td>\n",
       "      <td>0.0</td>\n",
       "      <td>0.0</td>\n",
       "      <td>0.0</td>\n",
       "      <td>0.0</td>\n",
       "    </tr>\n",
       "    <tr>\n",
       "      <th>1</th>\n",
       "      <td>2</td>\n",
       "      <td>3day</td>\n",
       "      <td>2016-03-14 18:13:53</td>\n",
       "      <td>Type II</td>\n",
       "      <td>NaN</td>\n",
       "      <td>NaN</td>\n",
       "      <td>NaN</td>\n",
       "      <td>NaN</td>\n",
       "      <td>NaN</td>\n",
       "      <td>180.0</td>\n",
       "      <td>...</td>\n",
       "      <td>estimate</td>\n",
       "      <td>0.0</td>\n",
       "      <td>0.0</td>\n",
       "      <td>0.0</td>\n",
       "      <td>0.0</td>\n",
       "      <td>0.0</td>\n",
       "      <td>0.0</td>\n",
       "      <td>0.0</td>\n",
       "      <td>0.0</td>\n",
       "      <td>1.0</td>\n",
       "    </tr>\n",
       "    <tr>\n",
       "      <th>2</th>\n",
       "      <td>3</td>\n",
       "      <td>1day</td>\n",
       "      <td>2016-07-20 18:50:42</td>\n",
       "      <td>Type II</td>\n",
       "      <td>False</td>\n",
       "      <td>NaN</td>\n",
       "      <td>NaN</td>\n",
       "      <td>NaN</td>\n",
       "      <td>NaN</td>\n",
       "      <td>180.0</td>\n",
       "      <td>...</td>\n",
       "      <td>estimate</td>\n",
       "      <td>0.0</td>\n",
       "      <td>0.0</td>\n",
       "      <td>0.0</td>\n",
       "      <td>0.0</td>\n",
       "      <td>0.0</td>\n",
       "      <td>0.0</td>\n",
       "      <td>0.0</td>\n",
       "      <td>0.0</td>\n",
       "      <td>1.0</td>\n",
       "    </tr>\n",
       "    <tr>\n",
       "      <th>3</th>\n",
       "      <td>4</td>\n",
       "      <td>NaN</td>\n",
       "      <td>2016-06-20 07:11:08</td>\n",
       "      <td>NaN</td>\n",
       "      <td>NaN</td>\n",
       "      <td>NaN</td>\n",
       "      <td>NaN</td>\n",
       "      <td>NaN</td>\n",
       "      <td>NaN</td>\n",
       "      <td>130.0</td>\n",
       "      <td>...</td>\n",
       "      <td>numeric</td>\n",
       "      <td>0.0</td>\n",
       "      <td>0.0</td>\n",
       "      <td>0.0</td>\n",
       "      <td>0.0</td>\n",
       "      <td>0.0</td>\n",
       "      <td>0.0</td>\n",
       "      <td>0.0</td>\n",
       "      <td>0.0</td>\n",
       "      <td>0.0</td>\n",
       "    </tr>\n",
       "    <tr>\n",
       "      <th>4</th>\n",
       "      <td>5</td>\n",
       "      <td>NaN</td>\n",
       "      <td>2016-05-22 10:04:37</td>\n",
       "      <td>Type II</td>\n",
       "      <td>NaN</td>\n",
       "      <td>NaN</td>\n",
       "      <td>NaN</td>\n",
       "      <td>NaN</td>\n",
       "      <td>NaN</td>\n",
       "      <td>130.0</td>\n",
       "      <td>...</td>\n",
       "      <td>numeric</td>\n",
       "      <td>0.0</td>\n",
       "      <td>0.0</td>\n",
       "      <td>0.0</td>\n",
       "      <td>0.0</td>\n",
       "      <td>0.0</td>\n",
       "      <td>0.0</td>\n",
       "      <td>0.0</td>\n",
       "      <td>0.0</td>\n",
       "      <td>1.0</td>\n",
       "    </tr>\n",
       "  </tbody>\n",
       "</table>\n",
       "<p>5 rows × 21 columns</p>\n",
       "</div>"
      ],
      "text/plain": [
       "   user_id properties.BG_Schedule properties.dateOfFirstLaunch  \\\n",
       "0        1                    NaN                          NaT   \n",
       "1        2                   3day          2016-03-14 18:13:53   \n",
       "2        3                   1day          2016-07-20 18:50:42   \n",
       "3        4                    NaN          2016-06-20 07:11:08   \n",
       "4        5                    NaN          2016-05-22 10:04:37   \n",
       "\n",
       "  properties.user.diabetes.type properties.Meal_Reminders_Set  \\\n",
       "0                           NaN                           NaN   \n",
       "1                       Type II                           NaN   \n",
       "2                       Type II                         False   \n",
       "3                           NaN                           NaN   \n",
       "4                       Type II                           NaN   \n",
       "\n",
       "  properties.TrackingExerciseMinutes  properties.Total_BG_Reminders  \\\n",
       "0                                NaN                            NaN   \n",
       "1                                NaN                            NaN   \n",
       "2                                NaN                            NaN   \n",
       "3                                NaN                            NaN   \n",
       "4                                NaN                            NaN   \n",
       "\n",
       "   properties.numAppOpenLifeTime properties.UserTreatmentType  \\\n",
       "0                            NaN                          NaN   \n",
       "1                            NaN                          NaN   \n",
       "2                            NaN                          NaN   \n",
       "3                            NaN                          NaN   \n",
       "4                            NaN                          NaN   \n",
       "\n",
       "   properties.carbBudget   ...    properties.CarbEntryPreference Gestational  \\\n",
       "0                    NaN   ...                               NaN         0.0   \n",
       "1                  180.0   ...                          estimate         0.0   \n",
       "2                  180.0   ...                          estimate         0.0   \n",
       "3                  130.0   ...                           numeric         0.0   \n",
       "4                  130.0   ...                           numeric         0.0   \n",
       "\n",
       "   LADA  Lada  None  Other  Pre-diabetic  Prediabetes  Type I  Type II  \n",
       "0   0.0   0.0   0.0    0.0           0.0          0.0     0.0      0.0  \n",
       "1   0.0   0.0   0.0    0.0           0.0          0.0     0.0      1.0  \n",
       "2   0.0   0.0   0.0    0.0           0.0          0.0     0.0      1.0  \n",
       "3   0.0   0.0   0.0    0.0           0.0          0.0     0.0      0.0  \n",
       "4   0.0   0.0   0.0    0.0           0.0          0.0     0.0      1.0  \n",
       "\n",
       "[5 rows x 21 columns]"
      ]
     },
     "execution_count": 14,
     "metadata": {},
     "output_type": "execute_result"
    }
   ],
   "source": [
    "user_profiles.head()"
   ]
  },
  {
   "cell_type": "code",
   "execution_count": 25,
   "metadata": {
    "collapsed": false
   },
   "outputs": [
    {
     "data": {
      "text/plain": [
       "user_id                               False\n",
       "properties.BG_Schedule                False\n",
       "properties.dateOfFirstLaunch          False\n",
       "properties.user.diabetes.type         False\n",
       "properties.Meal_Reminders_Set         False\n",
       "properties.TrackingExerciseMinutes    False\n",
       "properties.Total_BG_Reminders         False\n",
       "properties.numAppOpenLifeTime         False\n",
       "properties.UserTreatmentType          False\n",
       "properties.carbBudget                 False\n",
       "properties.gender                     False\n",
       "properties.CarbEntryPreference        False\n",
       "Gestational                           False\n",
       "LADA                                  False\n",
       "Lada                                  False\n",
       "None                                  False\n",
       "Other                                 False\n",
       "Pre-diabetic                          False\n",
       "Prediabetes                           False\n",
       "Type I                                False\n",
       "Type II                               False\n",
       "dtype: bool"
      ]
     },
     "execution_count": 25,
     "metadata": {},
     "output_type": "execute_result"
    }
   ],
   "source": [
    "user_profiles.isnull().all()\n"
   ]
  },
  {
   "cell_type": "code",
   "execution_count": 19,
   "metadata": {
    "collapsed": false
   },
   "outputs": [
    {
     "name": "stdout",
     "output_type": "stream",
     "text": [
      "<class 'pandas.core.frame.DataFrame'>\n",
      "Int64Index: 23655 entries, 0 to 23654\n",
      "Data columns (total 14 columns):\n",
      "user_id             23655 non-null int64\n",
      "total_app_opened    23655 non-null int64\n",
      "sign_up_date        23655 non-null datetime64[ns]\n",
      "min_app_open_day    23655 non-null int64\n",
      "last_day            23655 non-null datetime64[ns]\n",
      "max_app_open_day    23655 non-null int64\n",
      "1wfrom_start        23655 non-null datetime64[ns]\n",
      "open_1w             23655 non-null int64\n",
      "open_after_1w       11413 non-null float64\n",
      "user_app_age        23655 non-null timedelta64[ns]\n",
      "accute              15390 non-null float64\n",
      "critical            15390 non-null float64\n",
      "weight_input        11809 non-null float64\n",
      "carb_ent            5742 non-null float64\n",
      "dtypes: datetime64[ns](3), float64(5), int64(5), timedelta64[ns](1)\n",
      "memory usage: 2.7 MB\n"
     ]
    }
   ],
   "source": [
    "grouped_by_user.info()"
   ]
  },
  {
   "cell_type": "code",
   "execution_count": 26,
   "metadata": {
    "collapsed": true
   },
   "outputs": [],
   "source": [
    "user_profiles = pd.read_csv('data/UserProfiles.csv').drop(['Unnamed: 0'],axis=1)\n",
    "df.ix[df.index[(df.T == np.nan).sum() > 1]]\n"
   ]
  },
  {
   "cell_type": "code",
   "execution_count": 27,
   "metadata": {
    "collapsed": false
   },
   "outputs": [
    {
     "data": {
      "text/plain": [
       "Index([u'user_id', u'properties.BG_Schedule', u'properties.dateOfFirstLaunch',\n",
       "       u'properties.user.diabetes.type', u'properties.Meal_Reminders_Set',\n",
       "       u'properties.TrackingExerciseMinutes', u'properties.Total_BG_Reminders',\n",
       "       u'properties.numAppOpenLifeTime', u'properties.UserTreatmentType',\n",
       "       u'properties.carbBudget', u'properties.gender',\n",
       "       u'properties.CarbEntryPreference'],\n",
       "      dtype='object')"
      ]
     },
     "execution_count": 27,
     "metadata": {},
     "output_type": "execute_result"
    }
   ],
   "source": [
    "user_profiles.columns"
   ]
  },
  {
   "cell_type": "code",
   "execution_count": 28,
   "metadata": {
    "collapsed": false,
    "scrolled": true
   },
   "outputs": [
    {
     "name": "stdout",
     "output_type": "stream",
     "text": [
      "<class 'pandas.core.frame.DataFrame'>\n",
      "RangeIndex: 43194 entries, 0 to 43193\n",
      "Data columns (total 12 columns):\n",
      "user_id                               43194 non-null int64\n",
      "properties.BG_Schedule                8288 non-null object\n",
      "properties.dateOfFirstLaunch          37508 non-null object\n",
      "properties.user.diabetes.type         34110 non-null object\n",
      "properties.Meal_Reminders_Set         4222 non-null object\n",
      "properties.TrackingExerciseMinutes    21102 non-null object\n",
      "properties.Total_BG_Reminders         6441 non-null float64\n",
      "properties.numAppOpenLifeTime         146 non-null float64\n",
      "properties.UserTreatmentType          42 non-null object\n",
      "properties.carbBudget                 30112 non-null float64\n",
      "properties.gender                     31664 non-null object\n",
      "properties.CarbEntryPreference        15937 non-null object\n",
      "dtypes: float64(3), int64(1), object(8)\n",
      "memory usage: 4.0+ MB\n"
     ]
    }
   ],
   "source": [
    "user_profiles"
   ]
  },
  {
   "cell_type": "code",
   "execution_count": 51,
   "metadata": {
    "collapsed": false
   },
   "outputs": [
    {
     "data": {
      "text/plain": [
       "(43194,)"
      ]
     },
     "execution_count": 51,
     "metadata": {},
     "output_type": "execute_result"
    }
   ],
   "source": [
    "user_profiles['user_id'].unique().shape"
   ]
  },
  {
   "cell_type": "code",
   "execution_count": null,
   "metadata": {
    "collapsed": true
   },
   "outputs": [],
   "source": []
  },
  {
   "cell_type": "code",
   "execution_count": 31,
   "metadata": {
    "collapsed": false
   },
   "outputs": [
    {
     "data": {
      "text/plain": [
       "(43194, 12)"
      ]
     },
     "execution_count": 31,
     "metadata": {},
     "output_type": "execute_result"
    }
   ],
   "source": [
    "user_profiles.shape"
   ]
  },
  {
   "cell_type": "code",
   "execution_count": 38,
   "metadata": {
    "collapsed": false
   },
   "outputs": [
    {
     "data": {
      "text/plain": [
       "array([nan, 'none', 'Both', 'Meds'], dtype=object)"
      ]
     },
     "execution_count": 38,
     "metadata": {},
     "output_type": "execute_result"
    }
   ],
   "source": [
    "user_profiles['properties.UserTreatmentType'].unique()"
   ]
  },
  {
   "cell_type": "code",
   "execution_count": null,
   "metadata": {
    "collapsed": true
   },
   "outputs": [],
   "source": [
    "user_profiles['properties.UserTreatmentType'].unique()"
   ]
  },
  {
   "cell_type": "code",
   "execution_count": 39,
   "metadata": {
    "collapsed": false
   },
   "outputs": [
    {
     "data": {
      "text/plain": [
       "array([nan, '3day', '1day', '2day', '6day', '5day', '12day', '4day',\n",
       "       '7day', '2month', '8day', '6week', '10day', '2week', '8month',\n",
       "       '3week', '4week', '1week', '7week', '10week', '6month', '5week',\n",
       "       '1month', '11month', '9day', '11day', '12month', '4month', '3month',\n",
       "       '12week'], dtype=object)"
      ]
     },
     "execution_count": 39,
     "metadata": {},
     "output_type": "execute_result"
    }
   ],
   "source": [
    "user_profiles['properties.BG_Schedule'].unique()"
   ]
  },
  {
   "cell_type": "code",
   "execution_count": 41,
   "metadata": {
    "collapsed": false
   },
   "outputs": [
    {
     "data": {
      "text/plain": [
       "array([nan, 'Type II', 'Type I', 'Prediabetes', 'None', 'Gestational',\n",
       "       'LADA', 'Lada', 'Pre-diabetic', 'Other'], dtype=object)"
      ]
     },
     "execution_count": 41,
     "metadata": {},
     "output_type": "execute_result"
    }
   ],
   "source": [
    "user_profiles['properties.user.diabetes.type'].unique()"
   ]
  },
  {
   "cell_type": "code",
   "execution_count": 42,
   "metadata": {
    "collapsed": false
   },
   "outputs": [
    {
     "data": {
      "text/plain": [
       "array([nan, False, True], dtype=object)"
      ]
     },
     "execution_count": 42,
     "metadata": {},
     "output_type": "execute_result"
    }
   ],
   "source": [
    "user_profiles['properties.Meal_Reminders_Set'].unique()"
   ]
  },
  {
   "cell_type": "code",
   "execution_count": 43,
   "metadata": {
    "collapsed": false
   },
   "outputs": [
    {
     "data": {
      "text/plain": [
       "array([nan, False, True], dtype=object)"
      ]
     },
     "execution_count": 43,
     "metadata": {},
     "output_type": "execute_result"
    }
   ],
   "source": [
    "user_profiles['properties.TrackingExerciseMinutes'].unique()"
   ]
  },
  {
   "cell_type": "code",
   "execution_count": 44,
   "metadata": {
    "collapsed": false
   },
   "outputs": [
    {
     "data": {
      "text/plain": [
       "array([ nan,   1.,   2.,   5.,   6.,   3.,   4.,   8.,   7.,  10.,   9.,\n",
       "        11.])"
      ]
     },
     "execution_count": 44,
     "metadata": {},
     "output_type": "execute_result"
    }
   ],
   "source": [
    "user_profiles['properties.Total_BG_Reminders'].unique()"
   ]
  },
  {
   "cell_type": "code",
   "execution_count": 45,
   "metadata": {
    "collapsed": false
   },
   "outputs": [
    {
     "data": {
      "text/plain": [
       "array([ nan,   1.,   2.,  10.,  11.,   4.,  24.,   3.,   6.,  14.,  18.,\n",
       "         7.,  37.,  15.,   5.,   8.,  13.,  25.,  39.,   9.,  19.,  16.,\n",
       "        58.,  29.,  26.])"
      ]
     },
     "execution_count": 45,
     "metadata": {},
     "output_type": "execute_result"
    }
   ],
   "source": [
    "user_profiles['properties.numAppOpenLifeTime'].unique()"
   ]
  },
  {
   "cell_type": "code",
   "execution_count": 46,
   "metadata": {
    "collapsed": false
   },
   "outputs": [
    {
     "data": {
      "text/plain": [
       "array([   nan,   180.,   130.,   120.,   177.,    67.,   110.,    30.,\n",
       "         300.,   225.,    50.,   100.,   250.,   200.,   150.,  2000.,\n",
       "          20.,    15.,   140.,   240.,   147.,    75.,   190.,   135.,\n",
       "         168.,   195.,   500.,   188.,    25.,    60.,   260.,   115.,\n",
       "         210.,   270.,    90.,   205.,   170.,   220.,   162.,   175.,\n",
       "         185.,   400.,    80.,   360.,   256.,   165.,   255.,   450.,\n",
       "         288.,   320.,   215.,  1000.,    45.,   167.,  1500.,    68.,\n",
       "          70.,   206.,   236.,   131.,   160.,    63.,    65.,     4.,\n",
       "         233.,   540.,   230.,     5.,   125.,    10.,  1850.,   218.,\n",
       "         267.,   228.,   213.,   104.,   310.,    35.,   290.,   350.,\n",
       "         105.,   217.,   280.,    40.,   425.,   192.,   144.,   169.,\n",
       "          28.,    57.,    14.,   286.,   145.,   315.,   460.,  2700.,\n",
       "          42.,    48.,  1800.,   330.,    95.,   164.,   176.,    85.,\n",
       "         113.,   650.,   293.,    44.,   424.,  1300.,   325.,    99.,\n",
       "         237.,    53.,   358.,   158.,   900.,    96.,   181.,   245.,\n",
       "        1400.,   106.,   232.,    12.,  2500.,    32.,   275.,   211.,\n",
       "         600.,   238.,  1200.,   580.,   149.,   154.,   273.,    22.,\n",
       "          21.,   178.,    55.,  2284.,   212.])"
      ]
     },
     "execution_count": 46,
     "metadata": {},
     "output_type": "execute_result"
    }
   ],
   "source": [
    "user_profiles['properties.carbBudget'].unique()"
   ]
  },
  {
   "cell_type": "code",
   "execution_count": 47,
   "metadata": {
    "collapsed": false
   },
   "outputs": [
    {
     "data": {
      "text/plain": [
       "array([nan, 'Male', 'Female'], dtype=object)"
      ]
     },
     "execution_count": 47,
     "metadata": {},
     "output_type": "execute_result"
    }
   ],
   "source": [
    "user_profiles['properties.gender'].unique()"
   ]
  },
  {
   "cell_type": "code",
   "execution_count": 49,
   "metadata": {
    "collapsed": false
   },
   "outputs": [
    {
     "data": {
      "text/plain": [
       "array([nan, 'estimate', 'numeric'], dtype=object)"
      ]
     },
     "execution_count": 49,
     "metadata": {},
     "output_type": "execute_result"
    }
   ],
   "source": [
    "user_profiles['properties.CarbEntryPreference'].unique()"
   ]
  },
  {
   "cell_type": "code",
   "execution_count": 30,
   "metadata": {
    "collapsed": false
   },
   "outputs": [
    {
     "data": {
      "text/plain": [
       "0"
      ]
     },
     "execution_count": 30,
     "metadata": {},
     "output_type": "execute_result"
    }
   ],
   "source": [
    "user_profiles['user_id'].isnull().sum()"
   ]
  },
  {
   "cell_type": "code",
   "execution_count": 33,
   "metadata": {
    "collapsed": true
   },
   "outputs": [],
   "source": [
    "import numpy as np"
   ]
  },
  {
   "cell_type": "code",
   "execution_count": 36,
   "metadata": {
    "collapsed": false
   },
   "outputs": [
    {
     "data": {
      "text/html": [
       "<div>\n",
       "<table border=\"1\" class=\"dataframe\">\n",
       "  <thead>\n",
       "    <tr style=\"text-align: right;\">\n",
       "      <th></th>\n",
       "      <th>user_id</th>\n",
       "      <th>properties.BG_Schedule</th>\n",
       "      <th>properties.dateOfFirstLaunch</th>\n",
       "      <th>properties.user.diabetes.type</th>\n",
       "      <th>properties.Meal_Reminders_Set</th>\n",
       "      <th>properties.TrackingExerciseMinutes</th>\n",
       "      <th>properties.Total_BG_Reminders</th>\n",
       "      <th>properties.numAppOpenLifeTime</th>\n",
       "      <th>properties.UserTreatmentType</th>\n",
       "      <th>properties.carbBudget</th>\n",
       "      <th>properties.gender</th>\n",
       "      <th>properties.CarbEntryPreference</th>\n",
       "    </tr>\n",
       "  </thead>\n",
       "  <tbody>\n",
       "  </tbody>\n",
       "</table>\n",
       "</div>"
      ],
      "text/plain": [
       "Empty DataFrame\n",
       "Columns: [user_id, properties.BG_Schedule, properties.dateOfFirstLaunch, properties.user.diabetes.type, properties.Meal_Reminders_Set, properties.TrackingExerciseMinutes, properties.Total_BG_Reminders, properties.numAppOpenLifeTime, properties.UserTreatmentType, properties.carbBudget, properties.gender, properties.CarbEntryPreference]\n",
       "Index: []"
      ]
     },
     "execution_count": 36,
     "metadata": {},
     "output_type": "execute_result"
    }
   ],
   "source": [
    "user_profiles.ix[user_profiles.index[(user_profiles.T == np.nan).sum() > 1]]\n"
   ]
  },
  {
   "cell_type": "code",
   "execution_count": null,
   "metadata": {
    "collapsed": true
   },
   "outputs": [],
   "source": []
  }
 ],
 "metadata": {
  "anaconda-cloud": {},
  "kernelspec": {
   "display_name": "Python [conda root]",
   "language": "python",
   "name": "conda-root-py"
  },
  "language_info": {
   "codemirror_mode": {
    "name": "ipython",
    "version": 2
   },
   "file_extension": ".py",
   "mimetype": "text/x-python",
   "name": "python",
   "nbconvert_exporter": "python",
   "pygments_lexer": "ipython2",
   "version": "2.7.12"
  }
 },
 "nbformat": 4,
 "nbformat_minor": 1
}
